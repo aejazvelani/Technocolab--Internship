{
  "nbformat": 4,
  "nbformat_minor": 0,
  "metadata": {
    "kernelspec": {
      "display_name": "Python 3",
      "language": "python",
      "name": "python3"
    },
    "language_info": {
      "codemirror_mode": {
        "name": "ipython",
        "version": 3
      },
      "file_extension": ".py",
      "mimetype": "text/x-python",
      "name": "python",
      "nbconvert_exporter": "python",
      "pygments_lexer": "ipython3",
      "version": "3.6.3"
    },
    "colab": {
      "name": "Project 1.ipynb",
      "provenance": [],
      "collapsed_sections": [],
      "toc_visible": true
    }
  },
  "cells": [
    {
      "cell_type": "markdown",
      "metadata": {
        "dc": {
          "key": "13f090f9f0"
        },
        "deletable": false,
        "editable": false,
        "run_control": {
          "frozen": true
        },
        "tags": [
          "context"
        ],
        "id": "FwFrrABNsn6_",
        "colab_type": "text"
      },
      "source": [
        "## 1. Meet Dr. Ignaz Semmelweis\n",
        "<p><img style=\"float: left;margin:5px 20px 5px 1px\" src=\"https://upload.wikimedia.org/wikipedia/commons/f/f8/Ignaz_Semmelweis_1860.jpg\"></p>\n",
        "\n",
        "<!--\n",
        "<img style=\"float: left;margin:5px 20px 5px 1px\" src=\"https://upload.wikimedia.org/wikipedia/commons/f/f8/Ignaz_Semmelweis_1860.jpg\">\n",
        "-->\n",
        "<p>This is Dr. Ignaz Semmelweis, a Hungarian physician born in 1818 and active at the Vienna General Hospital. If Dr. Semmelweis looks troubled it's probably because he's thinking about <em>childbed fever</em>: A deadly disease affecting women that just have given birth. He is thinking about it because in the early 1840s at the Vienna General Hospital as many as 10% of the women giving birth die from it. He is thinking about it because he knows the cause of childbed fever: It's the contaminated hands of the doctors delivering the babies. And they won't listen to him and <em>wash their hands</em>!</p>\n",
        "<p>In this notebook, we're going to reanalyze the data that made Semmelweis discover the importance of <em>handwashing</em>. Let's start by looking at the data that made Semmelweis realize that something was wrong with the procedures at Vienna General Hospital.</p>"
      ]
    },
    {
      "cell_type": "code",
      "metadata": {
        "dc": {
          "key": "13f090f9f0"
        },
        "tags": [
          "sample_code"
        ],
        "id": "9bxvJUwOsn7G",
        "colab_type": "code",
        "colab": {
          "base_uri": "https://localhost:8080/",
          "height": 234
        },
        "outputId": "ad29e931-6654-4356-bfee-a1a5c536071c"
      },
      "source": [
        "# importing modules\n",
        "import pandas as pd\n",
        "\n",
        "# Read datasets/yearly_deaths_by_clinic.csv into yearly\n",
        "yearly = pd.read_csv('/content/yearly_deaths_by_clinic.csv')\n",
        "\n",
        "# Print out yearly\n",
        "print(yearly)"
      ],
      "execution_count": null,
      "outputs": [
        {
          "output_type": "stream",
          "text": [
            "    year  births  deaths    clinic\n",
            "0   1841    3036     237  clinic 1\n",
            "1   1842    3287     518  clinic 1\n",
            "2   1843    3060     274  clinic 1\n",
            "3   1844    3157     260  clinic 1\n",
            "4   1845    3492     241  clinic 1\n",
            "5   1846    4010     459  clinic 1\n",
            "6   1841    2442      86  clinic 2\n",
            "7   1842    2659     202  clinic 2\n",
            "8   1843    2739     164  clinic 2\n",
            "9   1844    2956      68  clinic 2\n",
            "10  1845    3241      66  clinic 2\n",
            "11  1846    3754     105  clinic 2\n"
          ],
          "name": "stdout"
        }
      ]
    },
    {
      "cell_type": "markdown",
      "metadata": {
        "dc": {
          "key": "45ea098e15"
        },
        "deletable": false,
        "editable": false,
        "run_control": {
          "frozen": true
        },
        "tags": [
          "context"
        ],
        "id": "nCTz1P6Nsn7Q",
        "colab_type": "text"
      },
      "source": [
        "## 2. The alarming number of deaths\n",
        "<p>The table above shows the number of women giving birth at the two clinics at the Vienna General Hospital for the years 1841 to 1846. You'll notice that giving birth was very dangerous; an <em>alarming</em> number of women died as the result of childbirth, most of them from childbed fever.</p>\n",
        "<p>We see this more clearly if we look at the <em>proportion of deaths</em> out of the number of women giving birth. Let's zoom in on the proportion of deaths at Clinic 1.</p>"
      ]
    },
    {
      "cell_type": "code",
      "metadata": {
        "id": "l-PTfeWXAZoQ",
        "colab_type": "code",
        "colab": {
          "base_uri": "https://localhost:8080/",
          "height": 234
        },
        "outputId": "721e5558-a88a-4d00-e4b8-ddf343f78169"
      },
      "source": [
        "# Calculate proportion of deaths per no. births\n",
        "yearly['proportion_deaths'] = yearly.deaths.divide(yearly.births)\n",
        "yearly['proportion_deaths']"
      ],
      "execution_count": 10,
      "outputs": [
        {
          "output_type": "execute_result",
          "data": {
            "text/plain": [
              "0     0.078063\n",
              "1     0.157591\n",
              "2     0.089542\n",
              "3     0.082357\n",
              "4     0.069015\n",
              "5     0.114464\n",
              "6     0.035217\n",
              "7     0.075968\n",
              "8     0.059876\n",
              "9     0.023004\n",
              "10    0.020364\n",
              "11    0.027970\n",
              "Name: proportion_deaths, dtype: float64"
            ]
          },
          "metadata": {
            "tags": []
          },
          "execution_count": 10
        }
      ]
    },
    {
      "cell_type": "code",
      "metadata": {
        "dc": {
          "key": "45ea098e15"
        },
        "tags": [
          "sample_code"
        ],
        "id": "FuIxFzaksn7S",
        "colab_type": "code",
        "colab": {
          "base_uri": "https://localhost:8080/",
          "height": 134
        },
        "outputId": "a5ccf0cd-ea69-4005-9e28-0978c8d8809a"
      },
      "source": [
        "# Extract clinic 1 data into yearly1 and clinic 2 data into yearly2\n",
        "yearly1 = yearly[yearly.clinic == 'clinic 1']\n",
        "yearly2 = yearly[yearly.clinic == 'clinic 2']\n",
        "\n",
        "# Print out yearly1\n",
        "print(yearly1)"
      ],
      "execution_count": null,
      "outputs": [
        {
          "output_type": "stream",
          "text": [
            "   year  births  deaths    clinic  proportion_deaths\n",
            "0  1841    3036     237  clinic 1           0.078063\n",
            "1  1842    3287     518  clinic 1           0.157591\n",
            "2  1843    3060     274  clinic 1           0.089542\n",
            "3  1844    3157     260  clinic 1           0.082357\n",
            "4  1845    3492     241  clinic 1           0.069015\n",
            "5  1846    4010     459  clinic 1           0.114464\n"
          ],
          "name": "stdout"
        }
      ]
    },
    {
      "cell_type": "markdown",
      "metadata": {
        "dc": {
          "key": "2bc9206960"
        },
        "deletable": false,
        "editable": false,
        "run_control": {
          "frozen": true
        },
        "tags": [
          "context"
        ],
        "id": "buKY_z0Dsn7Y",
        "colab_type": "text"
      },
      "source": [
        "## 3. Death at the clinics\n",
        "<p>If we now plot the proportion of deaths at both clinic 1 and clinic 2  we'll see a curious pattern...</p>"
      ]
    },
    {
      "cell_type": "code",
      "metadata": {
        "dc": {
          "key": "2bc9206960"
        },
        "tags": [
          "sample_code"
        ],
        "id": "p3dVfKtgsn7Z",
        "colab_type": "code",
        "colab": {
          "base_uri": "https://localhost:8080/",
          "height": 296
        },
        "outputId": "74e039f7-dcda-4a4e-ca46-eac8b8106384"
      },
      "source": [
        "# This makes plots appear in the notebook\n",
        "%matplotlib inline\n",
        "\n",
        "# Plot yearly proportion of deaths at the two clinics\n",
        "ax = yearly1.plot(x='year', y='proportion_deaths', label='clinic 1')\n",
        "yearly2.plot(x='year', y='proportion_deaths', label='clinic 2', ax=ax)\n",
        "ax.set_ylabel('Proportion deaths')\n",
        "ax.set_xlabel('Year')"
      ],
      "execution_count": 17,
      "outputs": [
        {
          "output_type": "execute_result",
          "data": {
            "text/plain": [
              "Text(0.5, 0, 'Year')"
            ]
          },
          "metadata": {
            "tags": []
          },
          "execution_count": 17
        },
        {
          "output_type": "display_data",
          "data": {
            "image/png": "[encoded data removed]",
            "text/plain": [
              "<Figure size 432x288 with 1 Axes>"
            ]
          },
          "metadata": {
            "tags": [],
            "needs_background": "light"
          }
        }
      ]
    },
    {
      "cell_type": "markdown",
      "metadata": {
        "dc": {
          "key": "0c9fdbf550"
        },
        "deletable": false,
        "editable": false,
        "run_control": {
          "frozen": true
        },
        "tags": [
          "context"
        ],
        "id": "HUmtlvsesn7i",
        "colab_type": "text"
      },
      "source": [
        "## 4. The handwashing begins\n",
        "<p>Why is the proportion of deaths constantly so much higher in Clinic 1? Semmelweis saw the same pattern and was puzzled and distressed. The only difference between the clinics was that many medical students served at Clinic 1, while mostly midwife students served at Clinic 2. While the midwives only tended to the women giving birth, the medical students also spent time in the autopsy rooms examining corpses. </p>\n",
        "<p>Semmelweis started to suspect that something on the corpses, spread from the hands of the medical students, caused childbed fever. So in a desperate attempt to stop the high mortality rates, he decreed: <em>Wash your hands!</em> This was an unorthodox and controversial request, nobody in Vienna knew about bacteria at this point in time. </p>\n",
        "<p>Let's load in monthly data from Clinic 1 to see if the handwashing had any effect.</p>"
      ]
    },
    {
      "cell_type": "code",
      "metadata": {
        "id": "iBD5bWK-E9ds",
        "colab_type": "code",
        "colab": {
          "base_uri": "https://localhost:8080/",
          "height": 404
        },
        "outputId": "21df1e49-15ac-404e-e372-0000076b3dd9"
      },
      "source": [
        "# Read datasets/monthly_deaths.csv into monthly and view\n",
        "monthly = pd.read_csv('/content/monthly_deaths.csv', parse_dates=['date'])\n",
        "monthly"
      ],
      "execution_count": 19,
      "outputs": [
        {
          "output_type": "execute_result",
          "data": {
            "text/html": [
              "<div>\n",
              "<style scoped>\n",
              "    .dataframe tbody tr th:only-of-type {\n",
              "        vertical-align: middle;\n",
              "    }\n",
              "\n",
              "    .dataframe tbody tr th {\n",
              "        vertical-align: top;\n",
              "    }\n",
              "\n",
              "    .dataframe thead th {\n",
              "        text-align: right;\n",
              "    }\n",
              "</style>\n",
              "<table border=\"1\" class=\"dataframe\">\n",
              "  <thead>\n",
              "    <tr style=\"text-align: right;\">\n",
              "      <th></th>\n",
              "      <th>date</th>\n",
              "      <th>births</th>\n",
              "      <th>deaths</th>\n",
              "    </tr>\n",
              "  </thead>\n",
              "  <tbody>\n",
              "    <tr>\n",
              "      <th>0</th>\n",
              "      <td>1841-01-01</td>\n",
              "      <td>254</td>\n",
              "      <td>37</td>\n",
              "    </tr>\n",
              "    <tr>\n",
              "      <th>1</th>\n",
              "      <td>1841-02-01</td>\n",
              "      <td>239</td>\n",
              "      <td>18</td>\n",
              "    </tr>\n",
              "    <tr>\n",
              "      <th>2</th>\n",
              "      <td>1841-03-01</td>\n",
              "      <td>277</td>\n",
              "      <td>12</td>\n",
              "    </tr>\n",
              "    <tr>\n",
              "      <th>3</th>\n",
              "      <td>1841-04-01</td>\n",
              "      <td>255</td>\n",
              "      <td>4</td>\n",
              "    </tr>\n",
              "    <tr>\n",
              "      <th>4</th>\n",
              "      <td>1841-05-01</td>\n",
              "      <td>255</td>\n",
              "      <td>2</td>\n",
              "    </tr>\n",
              "    <tr>\n",
              "      <th>...</th>\n",
              "      <td>...</td>\n",
              "      <td>...</td>\n",
              "      <td>...</td>\n",
              "    </tr>\n",
              "    <tr>\n",
              "      <th>93</th>\n",
              "      <td>1848-11-01</td>\n",
              "      <td>310</td>\n",
              "      <td>9</td>\n",
              "    </tr>\n",
              "    <tr>\n",
              "      <th>94</th>\n",
              "      <td>1848-12-01</td>\n",
              "      <td>373</td>\n",
              "      <td>5</td>\n",
              "    </tr>\n",
              "    <tr>\n",
              "      <th>95</th>\n",
              "      <td>1849-01-01</td>\n",
              "      <td>403</td>\n",
              "      <td>9</td>\n",
              "    </tr>\n",
              "    <tr>\n",
              "      <th>96</th>\n",
              "      <td>1849-02-01</td>\n",
              "      <td>389</td>\n",
              "      <td>12</td>\n",
              "    </tr>\n",
              "    <tr>\n",
              "      <th>97</th>\n",
              "      <td>1849-03-01</td>\n",
              "      <td>406</td>\n",
              "      <td>20</td>\n",
              "    </tr>\n",
              "  </tbody>\n",
              "</table>\n",
              "<p>98 rows × 3 columns</p>\n",
              "</div>"
            ],
            "text/plain": [
              "         date  births  deaths\n",
              "0  1841-01-01     254      37\n",
              "1  1841-02-01     239      18\n",
              "2  1841-03-01     277      12\n",
              "3  1841-04-01     255       4\n",
              "4  1841-05-01     255       2\n",
              "..        ...     ...     ...\n",
              "93 1848-11-01     310       9\n",
              "94 1848-12-01     373       5\n",
              "95 1849-01-01     403       9\n",
              "96 1849-02-01     389      12\n",
              "97 1849-03-01     406      20\n",
              "\n",
              "[98 rows x 3 columns]"
            ]
          },
          "metadata": {
            "tags": []
          },
          "execution_count": 19
        }
      ]
    },
    {
      "cell_type": "code",
      "metadata": {
        "dc": {
          "key": "0c9fdbf550"
        },
        "tags": [
          "sample_code"
        ],
        "id": "TJxwKTDksn7j",
        "colab_type": "code",
        "colab": {
          "base_uri": "https://localhost:8080/",
          "height": 201
        },
        "outputId": "c64ef6df-3ca5-4b48-934d-9b8bd4508d58"
      },
      "source": [
        "# Calculate proportion of deaths per no. births\n",
        "monthly['proportion_deaths'] = monthly.deaths.divide(monthly.births)\n",
        "\n",
        "# Print out the first rows in monthly\n",
        "print(monthly.head(10))"
      ],
      "execution_count": 21,
      "outputs": [
        {
          "output_type": "stream",
          "text": [
            "        date  births  deaths  proportion_deaths\n",
            "0 1841-01-01     254      37           0.145669\n",
            "1 1841-02-01     239      18           0.075314\n",
            "2 1841-03-01     277      12           0.043321\n",
            "3 1841-04-01     255       4           0.015686\n",
            "4 1841-05-01     255       2           0.007843\n",
            "5 1841-06-01     200      10           0.050000\n",
            "6 1841-07-01     190      16           0.084211\n",
            "7 1841-08-01     222       3           0.013514\n",
            "8 1841-09-01     213       4           0.018779\n",
            "9 1841-10-01     236      26           0.110169\n"
          ],
          "name": "stdout"
        }
      ]
    },
    {
      "cell_type": "markdown",
      "metadata": {
        "dc": {
          "key": "2da2a84119"
        },
        "deletable": false,
        "editable": false,
        "run_control": {
          "frozen": true
        },
        "tags": [
          "context"
        ],
        "id": "eYC0StnKsn7p",
        "colab_type": "text"
      },
      "source": [
        "## 5. The effect of handwashing\n",
        "<p>With the data loaded we can now look at the proportion of deaths over time. In the plot below we haven't marked where obligatory handwashing started, but it reduced the proportion of deaths to such a degree that you should be able to spot it!</p>"
      ]
    },
    {
      "cell_type": "code",
      "metadata": {
        "dc": {
          "key": "2da2a84119"
        },
        "tags": [
          "sample_code"
        ],
        "id": "0XOsPmHqsn7q",
        "colab_type": "code",
        "colab": {
          "base_uri": "https://localhost:8080/",
          "height": 286
        },
        "outputId": "4ce0e963-0071-4831-f06d-048ffc4c22e5"
      },
      "source": [
        "# Plot monthly proportion of deaths\n",
        "ax = monthly.plot(x='date', y='proportion_deaths')\n",
        "ax.set_ylabel('Proportion deaths')\n",
        "ax.set_xlabel('Year')"
      ],
      "execution_count": 22,
      "outputs": [
        {
          "output_type": "execute_result",
          "data": {
            "text/plain": [
              "Text(0.5, 0, 'Year')"
            ]
          },
          "metadata": {
            "tags": []
          },
          "execution_count": 22
        },
        {
          "output_type": "display_data",
          "data": {
            "image/png": "[encoded data removed]",
            "text/plain": [
              "<Figure size 432x288 with 1 Axes>"
            ]
          },
          "metadata": {
            "tags": [],
            "needs_background": "light"
          }
        }
      ]
    },
    {
      "cell_type": "markdown",
      "metadata": {
        "dc": {
          "key": "518e95acc5"
        },
        "deletable": false,
        "editable": false,
        "run_control": {
          "frozen": true
        },
        "tags": [
          "context"
        ],
        "id": "bQXobtjXsn7w",
        "colab_type": "text"
      },
      "source": [
        "## 6. The effect of handwashing highlighted\n",
        "<p>Starting from the summer of 1847 the proportion of deaths is drastically reduced and, yes, this was when Semmelweis made handwashing obligatory. </p>\n",
        "<p>The effect of handwashing is made even more clear if we highlight this in the graph.</p>"
      ]
    },
    {
      "cell_type": "code",
      "metadata": {
        "id": "zOPcOyfPFfEo",
        "colab_type": "code",
        "colab": {
          "base_uri": "https://localhost:8080/",
          "height": 33
        },
        "outputId": "663be3a1-4812-4c6b-c7a4-b42e209d406d"
      },
      "source": [
        "# Date when handwashing was made mandatory and view the time stamp\n",
        "import pandas as pd\n",
        "handwashing_start = pd.to_datetime('1847-06-01')\n",
        "handwashing_start"
      ],
      "execution_count": 23,
      "outputs": [
        {
          "output_type": "execute_result",
          "data": {
            "text/plain": [
              "Timestamp('1847-06-01 00:00:00')"
            ]
          },
          "metadata": {
            "tags": []
          },
          "execution_count": 23
        }
      ]
    },
    {
      "cell_type": "code",
      "metadata": {
        "id": "3WVSYL5iF4nf",
        "colab_type": "code",
        "colab": {
          "base_uri": "https://localhost:8080/",
          "height": 636
        },
        "outputId": "2f79ee67-a0dd-400a-bdbf-950255f7b0e2"
      },
      "source": [
        "# Split monthly into before and after handwashing_start\n",
        "before_washing = monthly[monthly.date < handwashing_start]\n",
        "after_washing = monthly[monthly.date >= handwashing_start]\n",
        "print(before_washing)\n",
        "print(after_washing)"
      ],
      "execution_count": 34,
      "outputs": [
        {
          "output_type": "stream",
          "text": [
            "         date  births  deaths  proportion_deaths\n",
            "0  1841-01-01     254      37           0.145669\n",
            "1  1841-02-01     239      18           0.075314\n",
            "2  1841-03-01     277      12           0.043321\n",
            "3  1841-04-01     255       4           0.015686\n",
            "4  1841-05-01     255       2           0.007843\n",
            "..        ...     ...     ...                ...\n",
            "71 1847-01-01     311      10           0.032154\n",
            "72 1847-02-01     312       6           0.019231\n",
            "73 1847-03-01     305      11           0.036066\n",
            "74 1847-04-01     312      57           0.182692\n",
            "75 1847-05-01     294      36           0.122449\n",
            "\n",
            "[76 rows x 4 columns]\n",
            "         date  births  deaths  proportion_deaths\n",
            "76 1847-06-01     268       6           0.022388\n",
            "77 1847-07-01     250       3           0.012000\n",
            "78 1847-08-01     264       5           0.018939\n",
            "79 1847-09-01     262      12           0.045802\n",
            "80 1847-10-01     278      11           0.039568\n",
            "81 1847-11-01     246      11           0.044715\n",
            "82 1847-12-01     273       8           0.029304\n",
            "83 1848-01-01     283      10           0.035336\n",
            "84 1848-02-01     291       2           0.006873\n",
            "85 1848-03-01     276       0           0.000000\n",
            "86 1848-04-01     305       2           0.006557\n",
            "87 1848-05-01     313       3           0.009585\n",
            "88 1848-06-01     264       3           0.011364\n",
            "89 1848-07-01     269       1           0.003717\n",
            "90 1848-08-01     261       0           0.000000\n",
            "91 1848-09-01     312       3           0.009615\n",
            "92 1848-10-01     299       7           0.023411\n",
            "93 1848-11-01     310       9           0.029032\n",
            "94 1848-12-01     373       5           0.013405\n",
            "95 1849-01-01     403       9           0.022333\n",
            "96 1849-02-01     389      12           0.030848\n",
            "97 1849-03-01     406      20           0.049261\n"
          ],
          "name": "stdout"
        }
      ]
    },
    {
      "cell_type": "code",
      "metadata": {
        "dc": {
          "key": "518e95acc5"
        },
        "tags": [
          "sample_code"
        ],
        "id": "p8K8YwiGsn7x",
        "colab_type": "code",
        "colab": {
          "base_uri": "https://localhost:8080/",
          "height": 286
        },
        "outputId": "9ebe9c81-26c9-4538-af05-162f9f20c6d0"
      },
      "source": [
        "# Plot monthly proportion of deaths before and after handwashing\n",
        "ax = before_washing.plot(x='date', y='proportion_deaths', label='Before handwashing')\n",
        "after_washing.plot(x='date', y='proportion_deaths', label='After handwashing', ax=ax)\n",
        "ax.set_ylabel('Proportion deaths')\n",
        "ax.set_xlabel(\"Year\")"
      ],
      "execution_count": 35,
      "outputs": [
        {
          "output_type": "execute_result",
          "data": {
            "text/plain": [
              "Text(0.5, 0, 'Year')"
            ]
          },
          "metadata": {
            "tags": []
          },
          "execution_count": 35
        },
        {
          "output_type": "display_data",
          "data": {
            "image/png": "[encoded data removed]",
            "text/plain": [
              "<Figure size 432x288 with 1 Axes>"
            ]
          },
          "metadata": {
            "tags": [],
            "needs_background": "light"
          }
        }
      ]
    },
    {
      "cell_type": "markdown",
      "metadata": {
        "dc": {
          "key": "586a9f9803"
        },
        "deletable": false,
        "editable": false,
        "run_control": {
          "frozen": true
        },
        "tags": [
          "context"
        ],
        "id": "5An5c4lOsn75",
        "colab_type": "text"
      },
      "source": [
        "## 7. More handwashing, fewer deaths?\n",
        "<p>Again, the graph shows that handwashing had a huge effect. How much did it reduce the monthly proportion of deaths on average?</p>"
      ]
    },
    {
      "cell_type": "code",
      "metadata": {
        "id": "Iy5ElZxmQMOf",
        "colab_type": "code",
        "colab": {
          "base_uri": "https://localhost:8080/",
          "height": 602
        },
        "outputId": "62be2fd7-fa22-4c18-88a0-07a5b42c6ed5"
      },
      "source": [
        "#Select the column proportion_deaths in before_washing and after_washing\n",
        "before_proportion = before_washing.proportion_deaths\n",
        "after_proportion = after_washing.proportion_deaths\n",
        "print(before_proportion)\n",
        "print(after_proportion)"
      ],
      "execution_count": 37,
      "outputs": [
        {
          "output_type": "stream",
          "text": [
            "0     0.145669\n",
            "1     0.075314\n",
            "2     0.043321\n",
            "3     0.015686\n",
            "4     0.007843\n",
            "        ...   \n",
            "71    0.032154\n",
            "72    0.019231\n",
            "73    0.036066\n",
            "74    0.182692\n",
            "75    0.122449\n",
            "Name: proportion_deaths, Length: 76, dtype: float64\n",
            "76    0.022388\n",
            "77    0.012000\n",
            "78    0.018939\n",
            "79    0.045802\n",
            "80    0.039568\n",
            "81    0.044715\n",
            "82    0.029304\n",
            "83    0.035336\n",
            "84    0.006873\n",
            "85    0.000000\n",
            "86    0.006557\n",
            "87    0.009585\n",
            "88    0.011364\n",
            "89    0.003717\n",
            "90    0.000000\n",
            "91    0.009615\n",
            "92    0.023411\n",
            "93    0.029032\n",
            "94    0.013405\n",
            "95    0.022333\n",
            "96    0.030848\n",
            "97    0.049261\n",
            "Name: proportion_deaths, dtype: float64\n"
          ],
          "name": "stdout"
        }
      ]
    },
    {
      "cell_type": "code",
      "metadata": {
        "dc": {
          "key": "586a9f9803"
        },
        "tags": [
          "sample_code"
        ],
        "id": "AlA55Kwvsn77",
        "colab_type": "code",
        "colab": {
          "base_uri": "https://localhost:8080/",
          "height": 33
        },
        "outputId": "c7f7d2d4-30cc-4a92-ff24-df2a44be2529"
      },
      "source": [
        "# Difference in mean monthly proportion of deaths due to handwashing\n",
        "mean_diff = after_proportion.mean() - before_proportion.mean() \n",
        "print(mean_diff)"
      ],
      "execution_count": 38,
      "outputs": [
        {
          "output_type": "stream",
          "text": [
            "-0.0839566075118334\n"
          ],
          "name": "stdout"
        }
      ]
    },
    {
      "cell_type": "markdown",
      "metadata": {
        "dc": {
          "key": "d8ff65292a"
        },
        "deletable": false,
        "editable": false,
        "run_control": {
          "frozen": true
        },
        "tags": [
          "context"
        ],
        "id": "mBXIjUa4sn8B",
        "colab_type": "text"
      },
      "source": [
        "## 8. A Bootstrap analysis of Semmelweis handwashing data\n",
        "<p>It reduced the proportion of deaths by around 8 percentage points! From 10% on average to just 2% (which is still a high number by modern standards). </p>\n",
        "<p>To get a feeling for the uncertainty around how much handwashing reduces mortalities we could look at a confidence interval (here calculated using the bootstrap method).</p>"
      ]
    },
    {
      "cell_type": "code",
      "metadata": {
        "id": "Az485hSvRTsn",
        "colab_type": "code",
        "colab": {
          "base_uri": "https://localhost:8080/",
          "height": 602
        },
        "outputId": "61eaa81e-a220-4245-fde8-e62898e3b7ec"
      },
      "source": [
        "from numpy import percentile\n",
        "# A bootstrap analysis of the reduction of deaths due to handwashing\n",
        "boot_mean_diff = []\n",
        "for i in range(3000):\n",
        "    boot_before = before_proportion.sample(frac=1, replace=True)\n",
        "    boot_after = after_proportion.sample(frac=1, replace=True)\n",
        "    boot_mean_diff.append(boot_after.mean() - boot_before.mean())\n",
        "\n",
        "print(boot_before)\n",
        "print(boot_after)"
      ],
      "execution_count": 53,
      "outputs": [
        {
          "output_type": "stream",
          "text": [
            "21    0.229665\n",
            "10    0.225532\n",
            "39    0.058333\n",
            "7     0.013514\n",
            "53    0.061224\n",
            "        ...   \n",
            "13    0.102273\n",
            "64    0.101504\n",
            "72    0.019231\n",
            "8     0.018779\n",
            "37    0.170290\n",
            "Name: proportion_deaths, Length: 76, dtype: float64\n",
            "86    0.006557\n",
            "76    0.022388\n",
            "84    0.006873\n",
            "84    0.006873\n",
            "91    0.009615\n",
            "81    0.044715\n",
            "89    0.003717\n",
            "83    0.035336\n",
            "95    0.022333\n",
            "88    0.011364\n",
            "85    0.000000\n",
            "76    0.022388\n",
            "96    0.030848\n",
            "84    0.006873\n",
            "97    0.049261\n",
            "83    0.035336\n",
            "82    0.029304\n",
            "84    0.006873\n",
            "91    0.009615\n",
            "89    0.003717\n",
            "77    0.012000\n",
            "80    0.039568\n",
            "Name: proportion_deaths, dtype: float64\n"
          ],
          "name": "stdout"
        }
      ]
    },
    {
      "cell_type": "code",
      "metadata": {
        "dc": {
          "key": "d8ff65292a"
        },
        "tags": [
          "sample_code"
        ],
        "id": "oIRKfZiVsn8C",
        "colab_type": "code",
        "colab": {
          "base_uri": "https://localhost:8080/",
          "height": 33
        },
        "outputId": "e52d9749-0709-4997-8a6a-7f23276e89fd"
      },
      "source": [
        "# Calculating a 95% confidence interval from boot_mean_diff \n",
        "confidence_interval = percentile(boot_mean_diff, [2.5, 97.5])\n",
        "print(confidence_interval)"
      ],
      "execution_count": 51,
      "outputs": [
        {
          "output_type": "stream",
          "text": [
            "[-0.10130933 -0.06695441]\n"
          ],
          "name": "stdout"
        }
      ]
    },
    {
      "cell_type": "markdown",
      "metadata": {
        "dc": {
          "key": "0645423069"
        },
        "deletable": false,
        "editable": false,
        "run_control": {
          "frozen": true
        },
        "tags": [
          "context"
        ],
        "id": "TGJ5HAB3sn8I",
        "colab_type": "text"
      },
      "source": [
        "## 9. The fate of Dr. Semmelweis\n",
        "<p>So handwashing reduced the proportion of deaths by between 6.7 and 10 percentage points, according to a 95% confidence interval. All in all, it would seem that Semmelweis had solid evidence that handwashing was a simple but highly effective procedure that could save many lives.</p>\n",
        "<p>The tragedy is that, despite the evidence, Semmelweis' theory — that childbed fever was caused by some \"substance\" (what we today know as <em>bacteria</em>) from autopsy room corpses — was ridiculed by contemporary scientists. The medical community largely rejected his discovery and in 1849 he was forced to leave the Vienna General Hospital for good.</p>\n",
        "<p>One reason for this was that statistics and statistical arguments were uncommon in medical science in the 1800s. Semmelweis only published his data as long tables of raw data, but he didn't show any graphs nor confidence intervals. If he would have had access to the analysis we've just put together he might have been more successful in getting the Viennese doctors to wash their hands.</p>"
      ]
    },
    {
      "cell_type": "code",
      "metadata": {
        "dc": {
          "key": "0645423069"
        },
        "tags": [
          "sample_code"
        ],
        "id": "LjfamqHqsn8J",
        "colab_type": "code",
        "colab": {}
      },
      "source": [
        "# The data Semmelweis collected points to that:\n",
        "doctors_should_wash_their_hands = True"
      ],
      "execution_count": 52,
      "outputs": []
    }
  ]
}