{
  "nbformat": 4,
  "nbformat_minor": 0,
  "metadata": {
    "kernelspec": {
      "display_name": "Python 3",
      "language": "python",
      "name": "python3"
    },
    "language_info": {
      "codemirror_mode": {
        "name": "ipython",
        "version": 3
      },
      "file_extension": ".py",
      "mimetype": "text/x-python",
      "name": "python",
      "nbconvert_exporter": "python",
      "pygments_lexer": "ipython3",
      "version": "3.7.4"
    },
    "colab": {
      "name": "Project_2_Task_6.ipynb",
      "provenance": []
    }
  },
  "cells": [
    {
      "cell_type": "markdown",
      "metadata": {
        "id": "Scpma-GK4oz_",
        "colab_type": "text"
      },
      "source": [
        "#**Cross-Validation Grid Search with Random Forest**\n",
        "\n",
        "In this Project, you will conduct a grid search over the number of trees in the forest (n_estimators) and the maximum depth of a tree (max_depth) for a random forest model on the case study data. You will then create a visualization showing the average testing score for the grid of hyperparameters that you searched over."
      ]
    },
    {
      "cell_type": "markdown",
      "metadata": {
        "id": "ssWj31Wh36GN",
        "colab_type": "text"
      },
      "source": [
        "**Run the following two cells before you begin.**"
      ]
    },
    {
      "cell_type": "code",
      "metadata": {
        "id": "H9ys2zLB36GP",
        "colab_type": "code",
        "colab": {
          "base_uri": "https://localhost:8080/",
          "height": 33
        },
        "outputId": "b6615275-3371-45d7-9bde-512fc0f98c09"
      },
      "source": [
        "%autosave 10"
      ],
      "execution_count": 1,
      "outputs": [
        {
          "output_type": "display_data",
          "data": {
            "application/javascript": [
              "IPython.notebook.set_autosave_interval(10000)"
            ]
          },
          "metadata": {
            "tags": []
          }
        },
        {
          "output_type": "stream",
          "text": [
            "Autosaving every 10 seconds\n"
          ],
          "name": "stdout"
        }
      ]
    },
    {
      "cell_type": "code",
      "metadata": {
        "id": "e-9aIfUi36Gf",
        "colab_type": "code",
        "colab": {}
      },
      "source": [
        "import pandas as pd\n",
        "import numpy as np\n",
        "import matplotlib.pyplot as plt\n",
        "\n",
        "%matplotlib inline\n",
        "\n",
        "df = pd.read_csv('cleaned_data.csv')"
      ],
      "execution_count": 2,
      "outputs": []
    },
    {
      "cell_type": "markdown",
      "metadata": {
        "id": "LcIRZ5sl36Gm",
        "colab_type": "text"
      },
      "source": [
        "**Run the following 3 cells to create a list of features, create a train/test split, and instantiate a random forest classifier.**"
      ]
    },
    {
      "cell_type": "code",
      "metadata": {
        "id": "c9N-nwWm36Gn",
        "colab_type": "code",
        "colab": {
          "base_uri": "https://localhost:8080/",
          "height": 318
        },
        "outputId": "853c407d-9b26-4c52-cda7-71496f61a907"
      },
      "source": [
        "features_response = df.columns.tolist()\n",
        "items_to_remove = ['ID', 'SEX', 'PAY_2', 'PAY_3', 'PAY_4', 'PAY_5', 'PAY_6',\n",
        "                   'EDUCATION_CAT', 'graduate school', 'high school', 'none',\n",
        "                   'others', 'university']\n",
        "features_response = [item for item in features_response if item not in items_to_remove]\n",
        "features_response"
      ],
      "execution_count": 3,
      "outputs": [
        {
          "output_type": "execute_result",
          "data": {
            "text/plain": [
              "['LIMIT_BAL',\n",
              " 'EDUCATION',\n",
              " 'MARRIAGE',\n",
              " 'AGE',\n",
              " 'PAY_1',\n",
              " 'BILL_AMT1',\n",
              " 'BILL_AMT2',\n",
              " 'BILL_AMT3',\n",
              " 'BILL_AMT4',\n",
              " 'BILL_AMT5',\n",
              " 'BILL_AMT6',\n",
              " 'PAY_AMT1',\n",
              " 'PAY_AMT2',\n",
              " 'PAY_AMT3',\n",
              " 'PAY_AMT4',\n",
              " 'PAY_AMT5',\n",
              " 'PAY_AMT6',\n",
              " 'default payment next month']"
            ]
          },
          "metadata": {
            "tags": []
          },
          "execution_count": 3
        }
      ]
    },
    {
      "cell_type": "code",
      "metadata": {
        "id": "WW-g7Q9q36Gt",
        "colab_type": "code",
        "colab": {}
      },
      "source": [
        "from sklearn.model_selection import train_test_split\n",
        "\n",
        "X_train, X_test, y_train, y_test = train_test_split(\n",
        "    df[features_response[:-1]].values,\n",
        "    df['default payment next month'].values,\n",
        "    test_size=0.2, random_state=24\n",
        ")"
      ],
      "execution_count": 4,
      "outputs": []
    },
    {
      "cell_type": "code",
      "metadata": {
        "id": "YQxGT5Mc36Gz",
        "colab_type": "code",
        "colab": {}
      },
      "source": [
        "from sklearn.ensemble import RandomForestClassifier\n",
        "\n",
        "rf = RandomForestClassifier(\n",
        "    n_estimators=10, criterion='gini', max_depth=3,\n",
        "    min_samples_split=2, min_samples_leaf=1, min_weight_fraction_leaf=0.0,\n",
        "    max_features='auto', max_leaf_nodes=None, min_impurity_decrease=0.0,\n",
        "    min_impurity_split=None, bootstrap=True, oob_score=False, n_jobs=None,\n",
        "    random_state=4, verbose=0, warm_start=False, class_weight=None\n",
        ")"
      ],
      "execution_count": 5,
      "outputs": []
    },
    {
      "cell_type": "markdown",
      "metadata": {
        "id": "2QRy-TGD36G6",
        "colab_type": "text"
      },
      "source": [
        "**Create a dictionary representing the grid for the `max_depth` and `n_estimators` hyperparameters that will be searched. Include depths of 3, 6, 9, and 12, and 10, 50, 100, and 200 trees.**"
      ]
    },
    {
      "cell_type": "code",
      "metadata": {
        "id": "WBMzcdAk36G7",
        "colab_type": "code",
        "colab": {}
      },
      "source": [
        "params={'max_depth':[3,6,9,12],'n_estimators':[10,50,100,200]}"
      ],
      "execution_count": 6,
      "outputs": []
    },
    {
      "cell_type": "markdown",
      "metadata": {
        "id": "sTHPafdB36HD",
        "colab_type": "text"
      },
      "source": [
        "________________________________________________________________\n",
        "**Instantiate a `GridSearchCV` object using the same options that we have previously in this course, but with the dictionary of hyperparameters created above. Set `verbose=2` to see the output for each fit performed.**"
      ]
    },
    {
      "cell_type": "code",
      "metadata": {
        "id": "EClWTHRf36HF",
        "colab_type": "code",
        "colab": {
          "base_uri": "https://localhost:8080/",
          "height": 351
        },
        "outputId": "319d7e5f-07b1-4135-8ffd-fbba2e87bc7e"
      },
      "source": [
        "from sklearn.model_selection import GridSearchCV\n",
        "clf=GridSearchCV(rf,params,verbose=2)\n",
        "clf"
      ],
      "execution_count": 7,
      "outputs": [
        {
          "output_type": "execute_result",
          "data": {
            "text/plain": [
              "GridSearchCV(cv=None, error_score=nan,\n",
              "             estimator=RandomForestClassifier(bootstrap=True, ccp_alpha=0.0,\n",
              "                                              class_weight=None,\n",
              "                                              criterion='gini', max_depth=3,\n",
              "                                              max_features='auto',\n",
              "                                              max_leaf_nodes=None,\n",
              "                                              max_samples=None,\n",
              "                                              min_impurity_decrease=0.0,\n",
              "                                              min_impurity_split=None,\n",
              "                                              min_samples_leaf=1,\n",
              "                                              min_samples_split=2,\n",
              "                                              min_weight_fraction_leaf=0.0,\n",
              "                                              n_estimators=10, n_jobs=None,\n",
              "                                              oob_score=False, random_state=4,\n",
              "                                              verbose=0, warm_start=False),\n",
              "             iid='deprecated', n_jobs=None,\n",
              "             param_grid={'max_depth': [3, 6, 9, 12],\n",
              "                         'n_estimators': [10, 50, 100, 200]},\n",
              "             pre_dispatch='2*n_jobs', refit=True, return_train_score=False,\n",
              "             scoring=None, verbose=2)"
            ]
          },
          "metadata": {
            "tags": []
          },
          "execution_count": 7
        }
      ]
    },
    {
      "cell_type": "markdown",
      "metadata": {
        "id": "XgTTVo_X36HO",
        "colab_type": "text"
      },
      "source": [
        "____________________________________________________\n",
        "**Fit the `GridSearchCV` object on the training data.**"
      ]
    },
    {
      "cell_type": "code",
      "metadata": {
        "scrolled": false,
        "id": "weH6UmSU36HQ",
        "colab_type": "code",
        "colab": {
          "base_uri": "https://localhost:8080/",
          "height": 1000
        },
        "outputId": "00482732-7d90-4441-a77b-bfb411e62142"
      },
      "source": [
        "clf.fit(X_train,y_train)"
      ],
      "execution_count": 8,
      "outputs": [
        {
          "output_type": "stream",
          "text": [
            "Fitting 5 folds for each of 16 candidates, totalling 80 fits\n",
            "[CV] max_depth=3, n_estimators=10 ....................................\n",
            "[CV] ..................... max_depth=3, n_estimators=10, total=   0.2s\n",
            "[CV] max_depth=3, n_estimators=10 ....................................\n"
          ],
          "name": "stdout"
        },
        {
          "output_type": "stream",
          "text": [
            "[Parallel(n_jobs=1)]: Using backend SequentialBackend with 1 concurrent workers.\n",
            "[Parallel(n_jobs=1)]: Done   1 out of   1 | elapsed:    0.2s remaining:    0.0s\n"
          ],
          "name": "stderr"
        },
        {
          "output_type": "stream",
          "text": [
            "[CV] ..................... max_depth=3, n_estimators=10, total=   0.1s\n",
            "[CV] max_depth=3, n_estimators=10 ....................................\n",
            "[CV] ..................... max_depth=3, n_estimators=10, total=   0.1s\n",
            "[CV] max_depth=3, n_estimators=10 ....................................\n",
            "[CV] ..................... max_depth=3, n_estimators=10, total=   0.1s\n",
            "[CV] max_depth=3, n_estimators=10 ....................................\n",
            "[CV] ..................... max_depth=3, n_estimators=10, total=   0.1s\n",
            "[CV] max_depth=3, n_estimators=50 ....................................\n",
            "[CV] ..................... max_depth=3, n_estimators=50, total=   0.7s\n",
            "[CV] max_depth=3, n_estimators=50 ....................................\n",
            "[CV] ..................... max_depth=3, n_estimators=50, total=   0.7s\n",
            "[CV] max_depth=3, n_estimators=50 ....................................\n",
            "[CV] ..................... max_depth=3, n_estimators=50, total=   0.7s\n",
            "[CV] max_depth=3, n_estimators=50 ....................................\n",
            "[CV] ..................... max_depth=3, n_estimators=50, total=   0.7s\n",
            "[CV] max_depth=3, n_estimators=50 ....................................\n",
            "[CV] ..................... max_depth=3, n_estimators=50, total=   0.7s\n",
            "[CV] max_depth=3, n_estimators=100 ...................................\n",
            "[CV] .................... max_depth=3, n_estimators=100, total=   1.4s\n",
            "[CV] max_depth=3, n_estimators=100 ...................................\n",
            "[CV] .................... max_depth=3, n_estimators=100, total=   1.4s\n",
            "[CV] max_depth=3, n_estimators=100 ...................................\n",
            "[CV] .................... max_depth=3, n_estimators=100, total=   1.4s\n",
            "[CV] max_depth=3, n_estimators=100 ...................................\n",
            "[CV] .................... max_depth=3, n_estimators=100, total=   1.4s\n",
            "[CV] max_depth=3, n_estimators=100 ...................................\n",
            "[CV] .................... max_depth=3, n_estimators=100, total=   1.4s\n",
            "[CV] max_depth=3, n_estimators=200 ...................................\n",
            "[CV] .................... max_depth=3, n_estimators=200, total=   2.8s\n",
            "[CV] max_depth=3, n_estimators=200 ...................................\n",
            "[CV] .................... max_depth=3, n_estimators=200, total=   2.8s\n",
            "[CV] max_depth=3, n_estimators=200 ...................................\n",
            "[CV] .................... max_depth=3, n_estimators=200, total=   2.8s\n",
            "[CV] max_depth=3, n_estimators=200 ...................................\n",
            "[CV] .................... max_depth=3, n_estimators=200, total=   2.8s\n",
            "[CV] max_depth=3, n_estimators=200 ...................................\n",
            "[CV] .................... max_depth=3, n_estimators=200, total=   2.8s\n",
            "[CV] max_depth=6, n_estimators=10 ....................................\n",
            "[CV] ..................... max_depth=6, n_estimators=10, total=   0.2s\n",
            "[CV] max_depth=6, n_estimators=10 ....................................\n",
            "[CV] ..................... max_depth=6, n_estimators=10, total=   0.2s\n",
            "[CV] max_depth=6, n_estimators=10 ....................................\n",
            "[CV] ..................... max_depth=6, n_estimators=10, total=   0.2s\n",
            "[CV] max_depth=6, n_estimators=10 ....................................\n",
            "[CV] ..................... max_depth=6, n_estimators=10, total=   0.2s\n",
            "[CV] max_depth=6, n_estimators=10 ....................................\n",
            "[CV] ..................... max_depth=6, n_estimators=10, total=   0.3s\n",
            "[CV] max_depth=6, n_estimators=50 ....................................\n",
            "[CV] ..................... max_depth=6, n_estimators=50, total=   1.2s\n",
            "[CV] max_depth=6, n_estimators=50 ....................................\n",
            "[CV] ..................... max_depth=6, n_estimators=50, total=   1.2s\n",
            "[CV] max_depth=6, n_estimators=50 ....................................\n",
            "[CV] ..................... max_depth=6, n_estimators=50, total=   1.2s\n",
            "[CV] max_depth=6, n_estimators=50 ....................................\n",
            "[CV] ..................... max_depth=6, n_estimators=50, total=   1.2s\n",
            "[CV] max_depth=6, n_estimators=50 ....................................\n",
            "[CV] ..................... max_depth=6, n_estimators=50, total=   1.2s\n",
            "[CV] max_depth=6, n_estimators=100 ...................................\n",
            "[CV] .................... max_depth=6, n_estimators=100, total=   2.4s\n",
            "[CV] max_depth=6, n_estimators=100 ...................................\n",
            "[CV] .................... max_depth=6, n_estimators=100, total=   2.4s\n",
            "[CV] max_depth=6, n_estimators=100 ...................................\n",
            "[CV] .................... max_depth=6, n_estimators=100, total=   2.4s\n",
            "[CV] max_depth=6, n_estimators=100 ...................................\n",
            "[CV] .................... max_depth=6, n_estimators=100, total=   2.4s\n",
            "[CV] max_depth=6, n_estimators=100 ...................................\n",
            "[CV] .................... max_depth=6, n_estimators=100, total=   2.4s\n",
            "[CV] max_depth=6, n_estimators=200 ...................................\n",
            "[CV] .................... max_depth=6, n_estimators=200, total=   4.8s\n",
            "[CV] max_depth=6, n_estimators=200 ...................................\n",
            "[CV] .................... max_depth=6, n_estimators=200, total=   4.8s\n",
            "[CV] max_depth=6, n_estimators=200 ...................................\n",
            "[CV] .................... max_depth=6, n_estimators=200, total=   4.8s\n",
            "[CV] max_depth=6, n_estimators=200 ...................................\n",
            "[CV] .................... max_depth=6, n_estimators=200, total=   4.8s\n",
            "[CV] max_depth=6, n_estimators=200 ...................................\n",
            "[CV] .................... max_depth=6, n_estimators=200, total=   4.7s\n",
            "[CV] max_depth=9, n_estimators=10 ....................................\n",
            "[CV] ..................... max_depth=9, n_estimators=10, total=   0.3s\n",
            "[CV] max_depth=9, n_estimators=10 ....................................\n",
            "[CV] ..................... max_depth=9, n_estimators=10, total=   0.3s\n",
            "[CV] max_depth=9, n_estimators=10 ....................................\n",
            "[CV] ..................... max_depth=9, n_estimators=10, total=   0.3s\n",
            "[CV] max_depth=9, n_estimators=10 ....................................\n",
            "[CV] ..................... max_depth=9, n_estimators=10, total=   0.3s\n",
            "[CV] max_depth=9, n_estimators=10 ....................................\n",
            "[CV] ..................... max_depth=9, n_estimators=10, total=   0.3s\n",
            "[CV] max_depth=9, n_estimators=50 ....................................\n",
            "[CV] ..................... max_depth=9, n_estimators=50, total=   1.7s\n",
            "[CV] max_depth=9, n_estimators=50 ....................................\n",
            "[CV] ..................... max_depth=9, n_estimators=50, total=   1.7s\n",
            "[CV] max_depth=9, n_estimators=50 ....................................\n",
            "[CV] ..................... max_depth=9, n_estimators=50, total=   1.6s\n",
            "[CV] max_depth=9, n_estimators=50 ....................................\n",
            "[CV] ..................... max_depth=9, n_estimators=50, total=   1.6s\n",
            "[CV] max_depth=9, n_estimators=50 ....................................\n",
            "[CV] ..................... max_depth=9, n_estimators=50, total=   1.6s\n",
            "[CV] max_depth=9, n_estimators=100 ...................................\n",
            "[CV] .................... max_depth=9, n_estimators=100, total=   3.3s\n",
            "[CV] max_depth=9, n_estimators=100 ...................................\n",
            "[CV] .................... max_depth=9, n_estimators=100, total=   3.3s\n",
            "[CV] max_depth=9, n_estimators=100 ...................................\n",
            "[CV] .................... max_depth=9, n_estimators=100, total=   3.3s\n",
            "[CV] max_depth=9, n_estimators=100 ...................................\n",
            "[CV] .................... max_depth=9, n_estimators=100, total=   3.3s\n",
            "[CV] max_depth=9, n_estimators=100 ...................................\n",
            "[CV] .................... max_depth=9, n_estimators=100, total=   3.3s\n",
            "[CV] max_depth=9, n_estimators=200 ...................................\n",
            "[CV] .................... max_depth=9, n_estimators=200, total=   6.6s\n",
            "[CV] max_depth=9, n_estimators=200 ...................................\n",
            "[CV] .................... max_depth=9, n_estimators=200, total=   6.6s\n",
            "[CV] max_depth=9, n_estimators=200 ...................................\n",
            "[CV] .................... max_depth=9, n_estimators=200, total=   6.6s\n",
            "[CV] max_depth=9, n_estimators=200 ...................................\n",
            "[CV] .................... max_depth=9, n_estimators=200, total=   6.6s\n",
            "[CV] max_depth=9, n_estimators=200 ...................................\n",
            "[CV] .................... max_depth=9, n_estimators=200, total=   6.6s\n",
            "[CV] max_depth=12, n_estimators=10 ...................................\n",
            "[CV] .................... max_depth=12, n_estimators=10, total=   0.4s\n",
            "[CV] max_depth=12, n_estimators=10 ...................................\n",
            "[CV] .................... max_depth=12, n_estimators=10, total=   0.4s\n",
            "[CV] max_depth=12, n_estimators=10 ...................................\n",
            "[CV] .................... max_depth=12, n_estimators=10, total=   0.4s\n",
            "[CV] max_depth=12, n_estimators=10 ...................................\n",
            "[CV] .................... max_depth=12, n_estimators=10, total=   0.4s\n",
            "[CV] max_depth=12, n_estimators=10 ...................................\n",
            "[CV] .................... max_depth=12, n_estimators=10, total=   0.4s\n",
            "[CV] max_depth=12, n_estimators=50 ...................................\n",
            "[CV] .................... max_depth=12, n_estimators=50, total=   2.1s\n",
            "[CV] max_depth=12, n_estimators=50 ...................................\n",
            "[CV] .................... max_depth=12, n_estimators=50, total=   2.1s\n",
            "[CV] max_depth=12, n_estimators=50 ...................................\n",
            "[CV] .................... max_depth=12, n_estimators=50, total=   2.1s\n",
            "[CV] max_depth=12, n_estimators=50 ...................................\n",
            "[CV] .................... max_depth=12, n_estimators=50, total=   2.1s\n",
            "[CV] max_depth=12, n_estimators=50 ...................................\n",
            "[CV] .................... max_depth=12, n_estimators=50, total=   2.1s\n",
            "[CV] max_depth=12, n_estimators=100 ..................................\n",
            "[CV] ................... max_depth=12, n_estimators=100, total=   4.1s\n",
            "[CV] max_depth=12, n_estimators=100 ..................................\n",
            "[CV] ................... max_depth=12, n_estimators=100, total=   4.1s\n",
            "[CV] max_depth=12, n_estimators=100 ..................................\n",
            "[CV] ................... max_depth=12, n_estimators=100, total=   4.1s\n",
            "[CV] max_depth=12, n_estimators=100 ..................................\n",
            "[CV] ................... max_depth=12, n_estimators=100, total=   4.1s\n",
            "[CV] max_depth=12, n_estimators=100 ..................................\n",
            "[CV] ................... max_depth=12, n_estimators=100, total=   4.1s\n",
            "[CV] max_depth=12, n_estimators=200 ..................................\n",
            "[CV] ................... max_depth=12, n_estimators=200, total=   8.3s\n",
            "[CV] max_depth=12, n_estimators=200 ..................................\n",
            "[CV] ................... max_depth=12, n_estimators=200, total=   8.2s\n",
            "[CV] max_depth=12, n_estimators=200 ..................................\n",
            "[CV] ................... max_depth=12, n_estimators=200, total=   8.2s\n",
            "[CV] max_depth=12, n_estimators=200 ..................................\n",
            "[CV] ................... max_depth=12, n_estimators=200, total=   8.3s\n",
            "[CV] max_depth=12, n_estimators=200 ..................................\n",
            "[CV] ................... max_depth=12, n_estimators=200, total=   8.3s\n"
          ],
          "name": "stdout"
        },
        {
          "output_type": "stream",
          "text": [
            "[Parallel(n_jobs=1)]: Done  80 out of  80 | elapsed:  3.4min finished\n"
          ],
          "name": "stderr"
        },
        {
          "output_type": "execute_result",
          "data": {
            "text/plain": [
              "GridSearchCV(cv=None, error_score=nan,\n",
              "             estimator=RandomForestClassifier(bootstrap=True, ccp_alpha=0.0,\n",
              "                                              class_weight=None,\n",
              "                                              criterion='gini', max_depth=3,\n",
              "                                              max_features='auto',\n",
              "                                              max_leaf_nodes=None,\n",
              "                                              max_samples=None,\n",
              "                                              min_impurity_decrease=0.0,\n",
              "                                              min_impurity_split=None,\n",
              "                                              min_samples_leaf=1,\n",
              "                                              min_samples_split=2,\n",
              "                                              min_weight_fraction_leaf=0.0,\n",
              "                                              n_estimators=10, n_jobs=None,\n",
              "                                              oob_score=False, random_state=4,\n",
              "                                              verbose=0, warm_start=False),\n",
              "             iid='deprecated', n_jobs=None,\n",
              "             param_grid={'max_depth': [3, 6, 9, 12],\n",
              "                         'n_estimators': [10, 50, 100, 200]},\n",
              "             pre_dispatch='2*n_jobs', refit=True, return_train_score=False,\n",
              "             scoring=None, verbose=2)"
            ]
          },
          "metadata": {
            "tags": []
          },
          "execution_count": 8
        }
      ]
    },
    {
      "cell_type": "code",
      "metadata": {
        "id": "q4FGqF4p36HV",
        "colab_type": "code",
        "colab": {
          "base_uri": "https://localhost:8080/",
          "height": 33
        },
        "outputId": "2d8e7931-7087-4e7b-f68e-d793707b76b8"
      },
      "source": [
        "clf.best_score_"
      ],
      "execution_count": 9,
      "outputs": [
        {
          "output_type": "execute_result",
          "data": {
            "text/plain": [
              "0.8207774511287191"
            ]
          },
          "metadata": {
            "tags": []
          },
          "execution_count": 9
        }
      ]
    },
    {
      "cell_type": "markdown",
      "metadata": {
        "id": "0pWD9X-p36Hb",
        "colab_type": "text"
      },
      "source": [
        "___________________________________________________________\n",
        "**Put the results of the grid search in a pandas DataFrame.**"
      ]
    },
    {
      "cell_type": "code",
      "metadata": {
        "scrolled": true,
        "id": "-z64f3TT36Hc",
        "colab_type": "code",
        "colab": {
          "base_uri": "https://localhost:8080/",
          "height": 1000
        },
        "outputId": "1e7aa143-3c1f-4ca2-cf2d-009dd414ccd9"
      },
      "source": [
        "params_df=pd.DataFrame(clf.cv_results_)\n",
        "params_df"
      ],
      "execution_count": 10,
      "outputs": [
        {
          "output_type": "execute_result",
          "data": {
            "text/html": [
              "<div>\n",
              "<style scoped>\n",
              "    .dataframe tbody tr th:only-of-type {\n",
              "        vertical-align: middle;\n",
              "    }\n",
              "\n",
              "    .dataframe tbody tr th {\n",
              "        vertical-align: top;\n",
              "    }\n",
              "\n",
              "    .dataframe thead th {\n",
              "        text-align: right;\n",
              "    }\n",
              "</style>\n",
              "<table border=\"1\" class=\"dataframe\">\n",
              "  <thead>\n",
              "    <tr style=\"text-align: right;\">\n",
              "      <th></th>\n",
              "      <th>mean_fit_time</th>\n",
              "      <th>std_fit_time</th>\n",
              "      <th>mean_score_time</th>\n",
              "      <th>std_score_time</th>\n",
              "      <th>param_max_depth</th>\n",
              "      <th>param_n_estimators</th>\n",
              "      <th>params</th>\n",
              "      <th>split0_test_score</th>\n",
              "      <th>split1_test_score</th>\n",
              "      <th>split2_test_score</th>\n",
              "      <th>split3_test_score</th>\n",
              "      <th>split4_test_score</th>\n",
              "      <th>mean_test_score</th>\n",
              "      <th>std_test_score</th>\n",
              "      <th>rank_test_score</th>\n",
              "    </tr>\n",
              "  </thead>\n",
              "  <tbody>\n",
              "    <tr>\n",
              "      <th>0</th>\n",
              "      <td>0.145580</td>\n",
              "      <td>0.003913</td>\n",
              "      <td>0.004353</td>\n",
              "      <td>0.000044</td>\n",
              "      <td>3</td>\n",
              "      <td>10</td>\n",
              "      <td>{'max_depth': 3, 'n_estimators': 10}</td>\n",
              "      <td>0.814390</td>\n",
              "      <td>0.819269</td>\n",
              "      <td>0.816925</td>\n",
              "      <td>0.824426</td>\n",
              "      <td>0.815284</td>\n",
              "      <td>0.818058</td>\n",
              "      <td>0.003590</td>\n",
              "      <td>11</td>\n",
              "    </tr>\n",
              "    <tr>\n",
              "      <th>1</th>\n",
              "      <td>0.686991</td>\n",
              "      <td>0.002831</td>\n",
              "      <td>0.016280</td>\n",
              "      <td>0.000323</td>\n",
              "      <td>3</td>\n",
              "      <td>50</td>\n",
              "      <td>{'max_depth': 3, 'n_estimators': 50}</td>\n",
              "      <td>0.812046</td>\n",
              "      <td>0.815284</td>\n",
              "      <td>0.814346</td>\n",
              "      <td>0.820206</td>\n",
              "      <td>0.813408</td>\n",
              "      <td>0.815058</td>\n",
              "      <td>0.002788</td>\n",
              "      <td>15</td>\n",
              "    </tr>\n",
              "    <tr>\n",
              "      <th>2</th>\n",
              "      <td>1.369434</td>\n",
              "      <td>0.008293</td>\n",
              "      <td>0.031001</td>\n",
              "      <td>0.000519</td>\n",
              "      <td>3</td>\n",
              "      <td>100</td>\n",
              "      <td>{'max_depth': 3, 'n_estimators': 100}</td>\n",
              "      <td>0.810640</td>\n",
              "      <td>0.812705</td>\n",
              "      <td>0.813408</td>\n",
              "      <td>0.820441</td>\n",
              "      <td>0.810830</td>\n",
              "      <td>0.813605</td>\n",
              "      <td>0.003580</td>\n",
              "      <td>16</td>\n",
              "    </tr>\n",
              "    <tr>\n",
              "      <th>3</th>\n",
              "      <td>2.743918</td>\n",
              "      <td>0.012062</td>\n",
              "      <td>0.062595</td>\n",
              "      <td>0.003098</td>\n",
              "      <td>3</td>\n",
              "      <td>200</td>\n",
              "      <td>{'max_depth': 3, 'n_estimators': 200}</td>\n",
              "      <td>0.811577</td>\n",
              "      <td>0.815518</td>\n",
              "      <td>0.814346</td>\n",
              "      <td>0.821378</td>\n",
              "      <td>0.813408</td>\n",
              "      <td>0.815246</td>\n",
              "      <td>0.003326</td>\n",
              "      <td>14</td>\n",
              "    </tr>\n",
              "    <tr>\n",
              "      <th>4</th>\n",
              "      <td>0.242028</td>\n",
              "      <td>0.002245</td>\n",
              "      <td>0.005331</td>\n",
              "      <td>0.000066</td>\n",
              "      <td>6</td>\n",
              "      <td>10</td>\n",
              "      <td>{'max_depth': 6, 'n_estimators': 10}</td>\n",
              "      <td>0.814390</td>\n",
              "      <td>0.818565</td>\n",
              "      <td>0.819972</td>\n",
              "      <td>0.826301</td>\n",
              "      <td>0.819503</td>\n",
              "      <td>0.819746</td>\n",
              "      <td>0.003825</td>\n",
              "      <td>10</td>\n",
              "    </tr>\n",
              "    <tr>\n",
              "      <th>5</th>\n",
              "      <td>1.183915</td>\n",
              "      <td>0.007706</td>\n",
              "      <td>0.020577</td>\n",
              "      <td>0.000311</td>\n",
              "      <td>6</td>\n",
              "      <td>50</td>\n",
              "      <td>{'max_depth': 6, 'n_estimators': 50}</td>\n",
              "      <td>0.815561</td>\n",
              "      <td>0.819034</td>\n",
              "      <td>0.819737</td>\n",
              "      <td>0.826067</td>\n",
              "      <td>0.820206</td>\n",
              "      <td>0.820121</td>\n",
              "      <td>0.003390</td>\n",
              "      <td>8</td>\n",
              "    </tr>\n",
              "    <tr>\n",
              "      <th>6</th>\n",
              "      <td>2.364693</td>\n",
              "      <td>0.022377</td>\n",
              "      <td>0.040412</td>\n",
              "      <td>0.000665</td>\n",
              "      <td>6</td>\n",
              "      <td>100</td>\n",
              "      <td>{'max_depth': 6, 'n_estimators': 100}</td>\n",
              "      <td>0.815796</td>\n",
              "      <td>0.819972</td>\n",
              "      <td>0.819503</td>\n",
              "      <td>0.827004</td>\n",
              "      <td>0.820206</td>\n",
              "      <td>0.820496</td>\n",
              "      <td>0.003628</td>\n",
              "      <td>3</td>\n",
              "    </tr>\n",
              "    <tr>\n",
              "      <th>7</th>\n",
              "      <td>4.683427</td>\n",
              "      <td>0.014995</td>\n",
              "      <td>0.077775</td>\n",
              "      <td>0.000464</td>\n",
              "      <td>6</td>\n",
              "      <td>200</td>\n",
              "      <td>{'max_depth': 6, 'n_estimators': 200}</td>\n",
              "      <td>0.815796</td>\n",
              "      <td>0.819972</td>\n",
              "      <td>0.819269</td>\n",
              "      <td>0.826770</td>\n",
              "      <td>0.820675</td>\n",
              "      <td>0.820496</td>\n",
              "      <td>0.003557</td>\n",
              "      <td>3</td>\n",
              "    </tr>\n",
              "    <tr>\n",
              "      <th>8</th>\n",
              "      <td>0.332709</td>\n",
              "      <td>0.003256</td>\n",
              "      <td>0.006446</td>\n",
              "      <td>0.000071</td>\n",
              "      <td>9</td>\n",
              "      <td>10</td>\n",
              "      <td>{'max_depth': 9, 'n_estimators': 10}</td>\n",
              "      <td>0.809702</td>\n",
              "      <td>0.815987</td>\n",
              "      <td>0.819972</td>\n",
              "      <td>0.824895</td>\n",
              "      <td>0.816221</td>\n",
              "      <td>0.817355</td>\n",
              "      <td>0.005008</td>\n",
              "      <td>12</td>\n",
              "    </tr>\n",
              "    <tr>\n",
              "      <th>9</th>\n",
              "      <td>1.629702</td>\n",
              "      <td>0.015628</td>\n",
              "      <td>0.025845</td>\n",
              "      <td>0.000086</td>\n",
              "      <td>9</td>\n",
              "      <td>50</td>\n",
              "      <td>{'max_depth': 9, 'n_estimators': 50}</td>\n",
              "      <td>0.815796</td>\n",
              "      <td>0.818565</td>\n",
              "      <td>0.819503</td>\n",
              "      <td>0.826301</td>\n",
              "      <td>0.819972</td>\n",
              "      <td>0.820027</td>\n",
              "      <td>0.003455</td>\n",
              "      <td>9</td>\n",
              "    </tr>\n",
              "    <tr>\n",
              "      <th>10</th>\n",
              "      <td>3.247992</td>\n",
              "      <td>0.016029</td>\n",
              "      <td>0.050625</td>\n",
              "      <td>0.000176</td>\n",
              "      <td>9</td>\n",
              "      <td>100</td>\n",
              "      <td>{'max_depth': 9, 'n_estimators': 100}</td>\n",
              "      <td>0.816264</td>\n",
              "      <td>0.819503</td>\n",
              "      <td>0.819737</td>\n",
              "      <td>0.826535</td>\n",
              "      <td>0.819269</td>\n",
              "      <td>0.820262</td>\n",
              "      <td>0.003382</td>\n",
              "      <td>7</td>\n",
              "    </tr>\n",
              "    <tr>\n",
              "      <th>11</th>\n",
              "      <td>6.503339</td>\n",
              "      <td>0.010349</td>\n",
              "      <td>0.099651</td>\n",
              "      <td>0.000398</td>\n",
              "      <td>9</td>\n",
              "      <td>200</td>\n",
              "      <td>{'max_depth': 9, 'n_estimators': 200}</td>\n",
              "      <td>0.815327</td>\n",
              "      <td>0.819503</td>\n",
              "      <td>0.819737</td>\n",
              "      <td>0.827473</td>\n",
              "      <td>0.820675</td>\n",
              "      <td>0.820543</td>\n",
              "      <td>0.003924</td>\n",
              "      <td>2</td>\n",
              "    </tr>\n",
              "    <tr>\n",
              "      <th>12</th>\n",
              "      <td>0.413342</td>\n",
              "      <td>0.003361</td>\n",
              "      <td>0.007756</td>\n",
              "      <td>0.000079</td>\n",
              "      <td>12</td>\n",
              "      <td>10</td>\n",
              "      <td>{'max_depth': 12, 'n_estimators': 10}</td>\n",
              "      <td>0.816264</td>\n",
              "      <td>0.814112</td>\n",
              "      <td>0.816690</td>\n",
              "      <td>0.825598</td>\n",
              "      <td>0.813408</td>\n",
              "      <td>0.817214</td>\n",
              "      <td>0.004372</td>\n",
              "      <td>13</td>\n",
              "    </tr>\n",
              "    <tr>\n",
              "      <th>13</th>\n",
              "      <td>2.036435</td>\n",
              "      <td>0.013790</td>\n",
              "      <td>0.032578</td>\n",
              "      <td>0.000314</td>\n",
              "      <td>12</td>\n",
              "      <td>50</td>\n",
              "      <td>{'max_depth': 12, 'n_estimators': 50}</td>\n",
              "      <td>0.817436</td>\n",
              "      <td>0.817862</td>\n",
              "      <td>0.819737</td>\n",
              "      <td>0.827004</td>\n",
              "      <td>0.820441</td>\n",
              "      <td>0.820496</td>\n",
              "      <td>0.003442</td>\n",
              "      <td>6</td>\n",
              "    </tr>\n",
              "    <tr>\n",
              "      <th>14</th>\n",
              "      <td>4.052223</td>\n",
              "      <td>0.008119</td>\n",
              "      <td>0.063581</td>\n",
              "      <td>0.000390</td>\n",
              "      <td>12</td>\n",
              "      <td>100</td>\n",
              "      <td>{'max_depth': 12, 'n_estimators': 100}</td>\n",
              "      <td>0.815796</td>\n",
              "      <td>0.816925</td>\n",
              "      <td>0.820675</td>\n",
              "      <td>0.828645</td>\n",
              "      <td>0.820441</td>\n",
              "      <td>0.820496</td>\n",
              "      <td>0.004501</td>\n",
              "      <td>3</td>\n",
              "    </tr>\n",
              "    <tr>\n",
              "      <th>15</th>\n",
              "      <td>8.143553</td>\n",
              "      <td>0.034469</td>\n",
              "      <td>0.127411</td>\n",
              "      <td>0.001562</td>\n",
              "      <td>12</td>\n",
              "      <td>200</td>\n",
              "      <td>{'max_depth': 12, 'n_estimators': 200}</td>\n",
              "      <td>0.816967</td>\n",
              "      <td>0.817862</td>\n",
              "      <td>0.821613</td>\n",
              "      <td>0.828411</td>\n",
              "      <td>0.819034</td>\n",
              "      <td>0.820777</td>\n",
              "      <td>0.004124</td>\n",
              "      <td>1</td>\n",
              "    </tr>\n",
              "  </tbody>\n",
              "</table>\n",
              "</div>"
            ],
            "text/plain": [
              "    mean_fit_time  std_fit_time  ...  std_test_score  rank_test_score\n",
              "0        0.145580      0.003913  ...        0.003590               11\n",
              "1        0.686991      0.002831  ...        0.002788               15\n",
              "2        1.369434      0.008293  ...        0.003580               16\n",
              "3        2.743918      0.012062  ...        0.003326               14\n",
              "4        0.242028      0.002245  ...        0.003825               10\n",
              "5        1.183915      0.007706  ...        0.003390                8\n",
              "6        2.364693      0.022377  ...        0.003628                3\n",
              "7        4.683427      0.014995  ...        0.003557                3\n",
              "8        0.332709      0.003256  ...        0.005008               12\n",
              "9        1.629702      0.015628  ...        0.003455                9\n",
              "10       3.247992      0.016029  ...        0.003382                7\n",
              "11       6.503339      0.010349  ...        0.003924                2\n",
              "12       0.413342      0.003361  ...        0.004372               13\n",
              "13       2.036435      0.013790  ...        0.003442                6\n",
              "14       4.052223      0.008119  ...        0.004501                3\n",
              "15       8.143553      0.034469  ...        0.004124                1\n",
              "\n",
              "[16 rows x 15 columns]"
            ]
          },
          "metadata": {
            "tags": []
          },
          "execution_count": 10
        }
      ]
    },
    {
      "cell_type": "code",
      "metadata": {
        "id": "ayKR21M436Hh",
        "colab_type": "code",
        "colab": {
          "base_uri": "https://localhost:8080/",
          "height": 33
        },
        "outputId": "241e47a9-dd32-426e-b021-a8429e556293"
      },
      "source": [
        "params_df.shape"
      ],
      "execution_count": 11,
      "outputs": [
        {
          "output_type": "execute_result",
          "data": {
            "text/plain": [
              "(16, 15)"
            ]
          },
          "metadata": {
            "tags": []
          },
          "execution_count": 11
        }
      ]
    },
    {
      "cell_type": "markdown",
      "metadata": {
        "id": "uynyr2Ye36Hn",
        "colab_type": "text"
      },
      "source": [
        "**Find the best hyperparameters from the cross-validation.**"
      ]
    },
    {
      "cell_type": "code",
      "metadata": {
        "id": "Pmrm9yFK36Hp",
        "colab_type": "code",
        "colab": {
          "base_uri": "https://localhost:8080/",
          "height": 150
        },
        "outputId": "c8568d02-89ce-4ddf-c9ad-0bca56310857"
      },
      "source": [
        "clf.best_estimator_"
      ],
      "execution_count": 12,
      "outputs": [
        {
          "output_type": "execute_result",
          "data": {
            "text/plain": [
              "RandomForestClassifier(bootstrap=True, ccp_alpha=0.0, class_weight=None,\n",
              "                       criterion='gini', max_depth=12, max_features='auto',\n",
              "                       max_leaf_nodes=None, max_samples=None,\n",
              "                       min_impurity_decrease=0.0, min_impurity_split=None,\n",
              "                       min_samples_leaf=1, min_samples_split=2,\n",
              "                       min_weight_fraction_leaf=0.0, n_estimators=200,\n",
              "                       n_jobs=None, oob_score=False, random_state=4, verbose=0,\n",
              "                       warm_start=False)"
            ]
          },
          "metadata": {
            "tags": []
          },
          "execution_count": 12
        }
      ]
    },
    {
      "cell_type": "markdown",
      "metadata": {
        "id": "hYq-Z77d36Hu",
        "colab_type": "text"
      },
      "source": [
        "________________________________________________________________________________________________________\n",
        "**Create a `pcolormesh` visualization of the mean testing score for each combination of hyperparameters.**\n",
        "\n",
        "<details>\n",
        "    <summary>Hint:</summary>\n",
        "    Remember to reshape the values of the mean testing scores to be a two-dimensional 4x4 grid.\n",
        "</details>"
      ]
    },
    {
      "cell_type": "code",
      "metadata": {
        "id": "mPV5jct836Hv",
        "colab_type": "code",
        "colab": {
          "base_uri": "https://localhost:8080/",
          "height": 100
        },
        "outputId": "635b1397-cd40-42a7-b674-17a0a8a66274"
      },
      "source": [
        "mean_test_scores=params_df['mean_test_score'].to_numpy()\n",
        "mean_test_scores=np.reshape(mean_test_scores,(4,4))\n",
        "print(mean_test_scores.shape)\n",
        "mean_test_scores"
      ],
      "execution_count": 13,
      "outputs": [
        {
          "output_type": "stream",
          "text": [
            "(4, 4)\n"
          ],
          "name": "stdout"
        },
        {
          "output_type": "execute_result",
          "data": {
            "text/plain": [
              "array([[0.8180584 , 0.81505804, 0.81360475, 0.81524559],\n",
              "       [0.81974616, 0.82012116, 0.82049621, 0.82049621],\n",
              "       [0.81735538, 0.82002739, 0.82026178, 0.82054312],\n",
              "       [0.81721443, 0.82049614, 0.82049621, 0.82077745]])"
            ]
          },
          "metadata": {
            "tags": []
          },
          "execution_count": 13
        }
      ]
    },
    {
      "cell_type": "code",
      "metadata": {
        "id": "4CSNT7e636H0",
        "colab_type": "code",
        "colab": {}
      },
      "source": [
        "# Create a 5x5 grid\n",
        "xx, yy = np.meshgrid(range(5), range(5))"
      ],
      "execution_count": 14,
      "outputs": []
    },
    {
      "cell_type": "code",
      "metadata": {
        "id": "JS7d2jMg36H7",
        "colab_type": "code",
        "colab": {}
      },
      "source": [
        "# Set color map to `plt.cm.jet`\n",
        "cm=plt.cm.jet"
      ],
      "execution_count": 15,
      "outputs": []
    },
    {
      "cell_type": "code",
      "metadata": {
        "eid": "f0c62",
        "id": "U7wQBhkd36IA",
        "colab_type": "code",
        "colab": {
          "base_uri": "https://localhost:8080/",
          "height": 300
        },
        "outputId": "0f4b5127-dd47-46c8-f1cb-a006ee192702"
      },
      "source": [
        "# Visualize pcolormesh\n",
        "ax = plt.axes()\n",
        "pcolor_ex = ax.pcolormesh(xx,yy,mean_test_scores,cmap=cm)\n",
        "plt.colorbar(pcolor_ex, label='Color scale')\n",
        "ax.set_xlabel('Number of Trees')\n",
        "ax.set_ylabel('Y coordinate')"
      ],
      "execution_count": 16,
      "outputs": [
        {
          "output_type": "execute_result",
          "data": {
            "text/plain": [
              "Text(0, 0.5, 'Y coordinate')"
            ]
          },
          "metadata": {
            "tags": []
          },
          "execution_count": 16
        },
        {
          "output_type": "display_data",
          "data": {
            "image/png": "[encoded data removed]",
            "text/plain": [
              "<Figure size 432x288 with 2 Axes>"
            ]
          },
          "metadata": {
            "tags": [],
            "needs_background": "light"
          }
        }
      ]
    },
    {
      "cell_type": "markdown",
      "metadata": {
        "id": "ZK7byKjX36II",
        "colab_type": "text"
      },
      "source": [
        "________________________________________________________________________________________________________\n",
        "**Conclude which set of hyperparameters to use.**"
      ]
    },
    {
      "cell_type": "code",
      "metadata": {
        "id": "XHAvfSMP36IJ",
        "colab_type": "code",
        "colab": {}
      },
      "source": [
        "# Create a dataframe of the feature names and importance\n",
        "hyper_df = pd.DataFrame({\n",
        "    'Feature name':features_response[:-1],\n",
        "    'Importance':clf.best_estimator_.feature_importances_\n",
        "})"
      ],
      "execution_count": 17,
      "outputs": []
    },
    {
      "cell_type": "code",
      "metadata": {
        "id": "Zjq1hM1936IP",
        "colab_type": "code",
        "colab": {
          "base_uri": "https://localhost:8080/",
          "height": 554
        },
        "outputId": "2ddd9d67-8530-4c82-ab86-48d355135ad3"
      },
      "source": [
        "# Sort values by importance\n",
        "hyper_df.sort_values('Importance', ascending=False)"
      ],
      "execution_count": 18,
      "outputs": [
        {
          "output_type": "execute_result",
          "data": {
            "text/html": [
              "<div>\n",
              "<style scoped>\n",
              "    .dataframe tbody tr th:only-of-type {\n",
              "        vertical-align: middle;\n",
              "    }\n",
              "\n",
              "    .dataframe tbody tr th {\n",
              "        vertical-align: top;\n",
              "    }\n",
              "\n",
              "    .dataframe thead th {\n",
              "        text-align: right;\n",
              "    }\n",
              "</style>\n",
              "<table border=\"1\" class=\"dataframe\">\n",
              "  <thead>\n",
              "    <tr style=\"text-align: right;\">\n",
              "      <th></th>\n",
              "      <th>Feature name</th>\n",
              "      <th>Importance</th>\n",
              "    </tr>\n",
              "  </thead>\n",
              "  <tbody>\n",
              "    <tr>\n",
              "      <th>4</th>\n",
              "      <td>PAY_1</td>\n",
              "      <td>0.304592</td>\n",
              "    </tr>\n",
              "    <tr>\n",
              "      <th>11</th>\n",
              "      <td>PAY_AMT1</td>\n",
              "      <td>0.060596</td>\n",
              "    </tr>\n",
              "    <tr>\n",
              "      <th>0</th>\n",
              "      <td>LIMIT_BAL</td>\n",
              "      <td>0.059877</td>\n",
              "    </tr>\n",
              "    <tr>\n",
              "      <th>5</th>\n",
              "      <td>BILL_AMT1</td>\n",
              "      <td>0.053973</td>\n",
              "    </tr>\n",
              "    <tr>\n",
              "      <th>6</th>\n",
              "      <td>BILL_AMT2</td>\n",
              "      <td>0.052029</td>\n",
              "    </tr>\n",
              "    <tr>\n",
              "      <th>12</th>\n",
              "      <td>PAY_AMT2</td>\n",
              "      <td>0.051697</td>\n",
              "    </tr>\n",
              "    <tr>\n",
              "      <th>7</th>\n",
              "      <td>BILL_AMT3</td>\n",
              "      <td>0.048639</td>\n",
              "    </tr>\n",
              "    <tr>\n",
              "      <th>13</th>\n",
              "      <td>PAY_AMT3</td>\n",
              "      <td>0.048254</td>\n",
              "    </tr>\n",
              "    <tr>\n",
              "      <th>8</th>\n",
              "      <td>BILL_AMT4</td>\n",
              "      <td>0.046171</td>\n",
              "    </tr>\n",
              "    <tr>\n",
              "      <th>10</th>\n",
              "      <td>BILL_AMT6</td>\n",
              "      <td>0.045718</td>\n",
              "    </tr>\n",
              "    <tr>\n",
              "      <th>9</th>\n",
              "      <td>BILL_AMT5</td>\n",
              "      <td>0.043062</td>\n",
              "    </tr>\n",
              "    <tr>\n",
              "      <th>3</th>\n",
              "      <td>AGE</td>\n",
              "      <td>0.042871</td>\n",
              "    </tr>\n",
              "    <tr>\n",
              "      <th>14</th>\n",
              "      <td>PAY_AMT4</td>\n",
              "      <td>0.042495</td>\n",
              "    </tr>\n",
              "    <tr>\n",
              "      <th>15</th>\n",
              "      <td>PAY_AMT5</td>\n",
              "      <td>0.039981</td>\n",
              "    </tr>\n",
              "    <tr>\n",
              "      <th>16</th>\n",
              "      <td>PAY_AMT6</td>\n",
              "      <td>0.039775</td>\n",
              "    </tr>\n",
              "    <tr>\n",
              "      <th>1</th>\n",
              "      <td>EDUCATION</td>\n",
              "      <td>0.012451</td>\n",
              "    </tr>\n",
              "    <tr>\n",
              "      <th>2</th>\n",
              "      <td>MARRIAGE</td>\n",
              "      <td>0.007819</td>\n",
              "    </tr>\n",
              "  </tbody>\n",
              "</table>\n",
              "</div>"
            ],
            "text/plain": [
              "   Feature name  Importance\n",
              "4         PAY_1    0.304592\n",
              "11     PAY_AMT1    0.060596\n",
              "0     LIMIT_BAL    0.059877\n",
              "5     BILL_AMT1    0.053973\n",
              "6     BILL_AMT2    0.052029\n",
              "12     PAY_AMT2    0.051697\n",
              "7     BILL_AMT3    0.048639\n",
              "13     PAY_AMT3    0.048254\n",
              "8     BILL_AMT4    0.046171\n",
              "10    BILL_AMT6    0.045718\n",
              "9     BILL_AMT5    0.043062\n",
              "3           AGE    0.042871\n",
              "14     PAY_AMT4    0.042495\n",
              "15     PAY_AMT5    0.039981\n",
              "16     PAY_AMT6    0.039775\n",
              "1     EDUCATION    0.012451\n",
              "2      MARRIAGE    0.007819"
            ]
          },
          "metadata": {
            "tags": []
          },
          "execution_count": 18
        }
      ]
    },
    {
      "cell_type": "code",
      "metadata": {
        "id": "7fF1_ifK36IU",
        "colab_type": "code",
        "colab": {}
      },
      "source": [
        ""
      ],
      "execution_count": null,
      "outputs": []
    }
  ]
}